{
 "cells": [
  {
   "cell_type": "markdown",
   "metadata": {},
   "source": [
    "# Reading NY Taxi Csv on EC2 Benchmark"
   ]
  },
  {
   "cell_type": "markdown",
   "metadata": {},
   "source": [
    "## tl;dr\n",
    "\n",
    "For reading large csv files with a small number of columns, a block size of 4 MB is a good choice on all AWS EC2 instance types."
   ]
  },
  {
   "cell_type": "markdown",
   "metadata": {},
   "source": [
    "## Experiment details\n",
    "\n",
    "We ran a script that:\n",
    "\n",
    "1. spins up an EC2 instance,\n",
    "2. downloads the NY Yellow Taxi Trip dataset from January 2020,\n",
    "3. reads it many times with pyarrow with different block sizes,\n",
    "4. saves the results somewhere.\n",
    "\n",
    "Below is a short, basic analysis of the output of the experiment.\n",
    "\n",
    "We hope it will be useful :)"
   ]
  },
  {
   "cell_type": "markdown",
   "metadata": {},
   "source": [
    "## Load data"
   ]
  },
  {
   "cell_type": "code",
   "execution_count": 25,
   "metadata": {},
   "outputs": [],
   "source": [
    "import pandas as pd\n",
    "import os\n",
    "import json\n",
    "\n",
    "ram = pd.DataFrame(\n",
    "    [\n",
    "        [\"m5.large\", 8, 2],\n",
    "        [\"m5.12xlarge\", 192, 48],\n",
    "        [\"m5.16xlarge\", 256, 64],\n",
    "        [\"m5.8xlarge\", 128, 32],\n",
    "        [\"r5a.16xlarge\", 512, 64],\n",
    "        [\"r5a.12xlarge\", 384, 48],\n",
    "        [\"m5.4xlarge\", 64, 16],\n",
    "        [\"r5a.8xlarge\", 256, 32],\n",
    "        [\"r5a.24xlarge\", 768, 96],\n",
    "        [\"r5a.4xlarge\", 128, 16],\n",
    "        [\"m5.2xlarge\", 32, 8],\n",
    "        [\"r5a.2xlarge\", 64, 8],\n",
    "        [\"m5.xlarge\", 16, 4],\n",
    "        [\"r5a.xlarge\", 32, 4],\n",
    "        [\"r5a.large\", 16, 2],\n",
    "        [\"c5.12xlarge\", 96, 48],\n",
    "        [\"c5.2xlarge\", 16, 8],\n",
    "        [\"c5.9xlarge\", 72, 36],\n",
    "        [\"c5.4xlarge\", 32, 16],\n",
    "        [\"c5.18xlarge\", 144, 72],\n",
    "    ],\n",
    "    columns=[\"instance\", \"ram\", \"vcpus\"]\n",
    ")\n",
    "\n",
    "df = (\n",
    "    pd.concat([\n",
    "        pd.DataFrame(\n",
    "            json.load(open(os.path.join(\"benchmark-data2\", f))),\n",
    "            columns=[\"block_size\", \"t1\", \"t2\", \"csv_copies\"]\n",
    "        )\n",
    "        .assign(\n",
    "            mbps=lambda df: df[\"csv_copies\"]*540/(df[\"t2\"] - df[\"t1\"]),\n",
    "            instance=\".\".join(f.split(\".\")[:2])\n",
    "        )\n",
    "        for f in os.listdir(\"benchmark-data2/\")\n",
    "    ], ignore_index=True)\n",
    "    .sort_values(\"mbps\")\n",
    ")"
   ]
  },
  {
   "cell_type": "code",
   "execution_count": 26,
   "metadata": {},
   "outputs": [
    {
     "data": {
      "text/html": [
       "<div>\n",
       "<style scoped>\n",
       "    .dataframe tbody tr th:only-of-type {\n",
       "        vertical-align: middle;\n",
       "    }\n",
       "\n",
       "    .dataframe tbody tr th {\n",
       "        vertical-align: top;\n",
       "    }\n",
       "\n",
       "    .dataframe thead th {\n",
       "        text-align: right;\n",
       "    }\n",
       "</style>\n",
       "<table border=\"1\" class=\"dataframe\">\n",
       "  <thead>\n",
       "    <tr style=\"text-align: right;\">\n",
       "      <th></th>\n",
       "      <th>block_size</th>\n",
       "      <th>t1</th>\n",
       "      <th>t2</th>\n",
       "      <th>csv_copies</th>\n",
       "      <th>mbps</th>\n",
       "      <th>instance</th>\n",
       "    </tr>\n",
       "  </thead>\n",
       "  <tbody>\n",
       "    <tr>\n",
       "      <th>31733</th>\n",
       "      <td>4194304</td>\n",
       "      <td>1.614452e+09</td>\n",
       "      <td>1.614452e+09</td>\n",
       "      <td>1</td>\n",
       "      <td>545.678075</td>\n",
       "      <td>c5.2xlarge</td>\n",
       "    </tr>\n",
       "    <tr>\n",
       "      <th>29728</th>\n",
       "      <td>134217728</td>\n",
       "      <td>1.614452e+09</td>\n",
       "      <td>1.614452e+09</td>\n",
       "      <td>1</td>\n",
       "      <td>814.130530</td>\n",
       "      <td>c5.9xlarge</td>\n",
       "    </tr>\n",
       "    <tr>\n",
       "      <th>20032</th>\n",
       "      <td>2097152</td>\n",
       "      <td>1.614449e+09</td>\n",
       "      <td>1.614449e+09</td>\n",
       "      <td>1</td>\n",
       "      <td>1993.494003</td>\n",
       "      <td>m5.8xlarge</td>\n",
       "    </tr>\n",
       "    <tr>\n",
       "      <th>26262</th>\n",
       "      <td>2097152</td>\n",
       "      <td>1.614415e+09</td>\n",
       "      <td>1.614415e+09</td>\n",
       "      <td>4</td>\n",
       "      <td>2421.040735</td>\n",
       "      <td>m5.16xlarge</td>\n",
       "    </tr>\n",
       "    <tr>\n",
       "      <th>53557</th>\n",
       "      <td>8388608</td>\n",
       "      <td>1.614450e+09</td>\n",
       "      <td>1.614450e+09</td>\n",
       "      <td>1</td>\n",
       "      <td>1093.881957</td>\n",
       "      <td>m5.4xlarge</td>\n",
       "    </tr>\n",
       "  </tbody>\n",
       "</table>\n",
       "</div>"
      ],
      "text/plain": [
       "       block_size            t1            t2  csv_copies         mbps  \\\n",
       "31733     4194304  1.614452e+09  1.614452e+09           1   545.678075   \n",
       "29728   134217728  1.614452e+09  1.614452e+09           1   814.130530   \n",
       "20032     2097152  1.614449e+09  1.614449e+09           1  1993.494003   \n",
       "26262     2097152  1.614415e+09  1.614415e+09           4  2421.040735   \n",
       "53557     8388608  1.614450e+09  1.614450e+09           1  1093.881957   \n",
       "\n",
       "          instance  \n",
       "31733   c5.2xlarge  \n",
       "29728   c5.9xlarge  \n",
       "20032   m5.8xlarge  \n",
       "26262  m5.16xlarge  \n",
       "53557   m5.4xlarge  "
      ]
     },
     "execution_count": 26,
     "metadata": {},
     "output_type": "execute_result"
    }
   ],
   "source": [
    "df.sample(5)"
   ]
  },
  {
   "cell_type": "markdown",
   "metadata": {},
   "source": [
    "## Some counts"
   ]
  },
  {
   "cell_type": "code",
   "execution_count": 27,
   "metadata": {},
   "outputs": [
    {
     "data": {
      "text/plain": [
       "instance      csv_copies\n",
       "c5.12xlarge   4             3550\n",
       "c5.18xlarge   4              330\n",
       "c5.2xlarge    1              690\n",
       "              4             1860\n",
       "c5.4xlarge    1             1230\n",
       "              4             3210\n",
       "c5.9xlarge    1             1800\n",
       "              4             3390\n",
       "m5.12xlarge   1             1800\n",
       "              4             8890\n",
       "m5.16xlarge   1             1500\n",
       "              4             6900\n",
       "m5.2xlarge    1             3300\n",
       "              4             1040\n",
       "m5.4xlarge    1             3720\n",
       "              4             2023\n",
       "m5.8xlarge    1             4050\n",
       "              4             2770\n",
       "m5.large      1              750\n",
       "m5.xlarge     1             1740\n",
       "              4              490\n",
       "r5a.12xlarge  4             1900\n",
       "r5a.16xlarge  4             1960\n",
       "r5a.24xlarge  4             1540\n",
       "r5a.2xlarge   4              880\n",
       "r5a.4xlarge   4             1270\n",
       "r5a.8xlarge   4             1630\n",
       "r5a.large     4              250\n",
       "r5a.xlarge    4              460\n",
       "dtype: int64"
      ]
     },
     "execution_count": 27,
     "metadata": {},
     "output_type": "execute_result"
    }
   ],
   "source": [
    "df.groupby([\"instance\", \"csv_copies\"]).size()"
   ]
  },
  {
   "cell_type": "markdown",
   "metadata": {},
   "source": [
    "## Median winner per instance type"
   ]
  },
  {
   "cell_type": "code",
   "execution_count": 28,
   "metadata": {},
   "outputs": [
    {
     "data": {
      "text/html": [
       "<div>\n",
       "<style scoped>\n",
       "    .dataframe tbody tr th:only-of-type {\n",
       "        vertical-align: middle;\n",
       "    }\n",
       "\n",
       "    .dataframe tbody tr th {\n",
       "        vertical-align: top;\n",
       "    }\n",
       "\n",
       "    .dataframe thead th {\n",
       "        text-align: right;\n",
       "    }\n",
       "</style>\n",
       "<table border=\"1\" class=\"dataframe\">\n",
       "  <thead>\n",
       "    <tr style=\"text-align: right;\">\n",
       "      <th></th>\n",
       "      <th>instance</th>\n",
       "      <th>mbps</th>\n",
       "      <th>block_size</th>\n",
       "      <th>ram</th>\n",
       "      <th>vcpus</th>\n",
       "    </tr>\n",
       "  </thead>\n",
       "  <tbody>\n",
       "    <tr>\n",
       "      <th>18</th>\n",
       "      <td>r5a.large</td>\n",
       "      <td>121.036566</td>\n",
       "      <td>33554432</td>\n",
       "      <td>16</td>\n",
       "      <td>2</td>\n",
       "    </tr>\n",
       "    <tr>\n",
       "      <th>10</th>\n",
       "      <td>m5.large</td>\n",
       "      <td>132.893003</td>\n",
       "      <td>8388608</td>\n",
       "      <td>8</td>\n",
       "      <td>2</td>\n",
       "    </tr>\n",
       "    <tr>\n",
       "      <th>19</th>\n",
       "      <td>r5a.xlarge</td>\n",
       "      <td>236.725326</td>\n",
       "      <td>67108864</td>\n",
       "      <td>32</td>\n",
       "      <td>4</td>\n",
       "    </tr>\n",
       "    <tr>\n",
       "      <th>11</th>\n",
       "      <td>m5.xlarge</td>\n",
       "      <td>270.822967</td>\n",
       "      <td>8388608</td>\n",
       "      <td>16</td>\n",
       "      <td>4</td>\n",
       "    </tr>\n",
       "    <tr>\n",
       "      <th>15</th>\n",
       "      <td>r5a.2xlarge</td>\n",
       "      <td>467.741287</td>\n",
       "      <td>8388608</td>\n",
       "      <td>64</td>\n",
       "      <td>8</td>\n",
       "    </tr>\n",
       "    <tr>\n",
       "      <th>7</th>\n",
       "      <td>m5.2xlarge</td>\n",
       "      <td>546.568387</td>\n",
       "      <td>16777216</td>\n",
       "      <td>32</td>\n",
       "      <td>8</td>\n",
       "    </tr>\n",
       "    <tr>\n",
       "      <th>2</th>\n",
       "      <td>c5.2xlarge</td>\n",
       "      <td>590.589305</td>\n",
       "      <td>8388608</td>\n",
       "      <td>16</td>\n",
       "      <td>8</td>\n",
       "    </tr>\n",
       "    <tr>\n",
       "      <th>16</th>\n",
       "      <td>r5a.4xlarge</td>\n",
       "      <td>800.816103</td>\n",
       "      <td>4194304</td>\n",
       "      <td>128</td>\n",
       "      <td>16</td>\n",
       "    </tr>\n",
       "    <tr>\n",
       "      <th>8</th>\n",
       "      <td>m5.4xlarge</td>\n",
       "      <td>1070.485266</td>\n",
       "      <td>4194304</td>\n",
       "      <td>64</td>\n",
       "      <td>16</td>\n",
       "    </tr>\n",
       "    <tr>\n",
       "      <th>3</th>\n",
       "      <td>c5.4xlarge</td>\n",
       "      <td>1126.570121</td>\n",
       "      <td>8388608</td>\n",
       "      <td>32</td>\n",
       "      <td>16</td>\n",
       "    </tr>\n",
       "    <tr>\n",
       "      <th>17</th>\n",
       "      <td>r5a.8xlarge</td>\n",
       "      <td>1371.842614</td>\n",
       "      <td>1048576</td>\n",
       "      <td>256</td>\n",
       "      <td>32</td>\n",
       "    </tr>\n",
       "    <tr>\n",
       "      <th>14</th>\n",
       "      <td>r5a.24xlarge</td>\n",
       "      <td>1498.003237</td>\n",
       "      <td>4194304</td>\n",
       "      <td>768</td>\n",
       "      <td>96</td>\n",
       "    </tr>\n",
       "    <tr>\n",
       "      <th>12</th>\n",
       "      <td>r5a.12xlarge</td>\n",
       "      <td>1781.102442</td>\n",
       "      <td>1048576</td>\n",
       "      <td>384</td>\n",
       "      <td>48</td>\n",
       "    </tr>\n",
       "    <tr>\n",
       "      <th>13</th>\n",
       "      <td>r5a.16xlarge</td>\n",
       "      <td>1860.924634</td>\n",
       "      <td>1048576</td>\n",
       "      <td>512</td>\n",
       "      <td>64</td>\n",
       "    </tr>\n",
       "    <tr>\n",
       "      <th>9</th>\n",
       "      <td>m5.8xlarge</td>\n",
       "      <td>2076.872703</td>\n",
       "      <td>4194304</td>\n",
       "      <td>128</td>\n",
       "      <td>32</td>\n",
       "    </tr>\n",
       "    <tr>\n",
       "      <th>1</th>\n",
       "      <td>c5.18xlarge</td>\n",
       "      <td>2385.214084</td>\n",
       "      <td>1048576</td>\n",
       "      <td>144</td>\n",
       "      <td>72</td>\n",
       "    </tr>\n",
       "    <tr>\n",
       "      <th>4</th>\n",
       "      <td>c5.9xlarge</td>\n",
       "      <td>2490.886827</td>\n",
       "      <td>4194304</td>\n",
       "      <td>72</td>\n",
       "      <td>36</td>\n",
       "    </tr>\n",
       "    <tr>\n",
       "      <th>6</th>\n",
       "      <td>m5.16xlarge</td>\n",
       "      <td>2654.038188</td>\n",
       "      <td>4194304</td>\n",
       "      <td>256</td>\n",
       "      <td>64</td>\n",
       "    </tr>\n",
       "    <tr>\n",
       "      <th>5</th>\n",
       "      <td>m5.12xlarge</td>\n",
       "      <td>2925.082336</td>\n",
       "      <td>4194304</td>\n",
       "      <td>192</td>\n",
       "      <td>48</td>\n",
       "    </tr>\n",
       "    <tr>\n",
       "      <th>0</th>\n",
       "      <td>c5.12xlarge</td>\n",
       "      <td>3112.340583</td>\n",
       "      <td>4194304</td>\n",
       "      <td>96</td>\n",
       "      <td>48</td>\n",
       "    </tr>\n",
       "  </tbody>\n",
       "</table>\n",
       "</div>"
      ],
      "text/plain": [
       "        instance         mbps  block_size  ram  vcpus\n",
       "18     r5a.large   121.036566    33554432   16      2\n",
       "10      m5.large   132.893003     8388608    8      2\n",
       "19    r5a.xlarge   236.725326    67108864   32      4\n",
       "11     m5.xlarge   270.822967     8388608   16      4\n",
       "15   r5a.2xlarge   467.741287     8388608   64      8\n",
       "7     m5.2xlarge   546.568387    16777216   32      8\n",
       "2     c5.2xlarge   590.589305     8388608   16      8\n",
       "16   r5a.4xlarge   800.816103     4194304  128     16\n",
       "8     m5.4xlarge  1070.485266     4194304   64     16\n",
       "3     c5.4xlarge  1126.570121     8388608   32     16\n",
       "17   r5a.8xlarge  1371.842614     1048576  256     32\n",
       "14  r5a.24xlarge  1498.003237     4194304  768     96\n",
       "12  r5a.12xlarge  1781.102442     1048576  384     48\n",
       "13  r5a.16xlarge  1860.924634     1048576  512     64\n",
       "9     m5.8xlarge  2076.872703     4194304  128     32\n",
       "1    c5.18xlarge  2385.214084     1048576  144     72\n",
       "4     c5.9xlarge  2490.886827     4194304   72     36\n",
       "6    m5.16xlarge  2654.038188     4194304  256     64\n",
       "5    m5.12xlarge  2925.082336     4194304  192     48\n",
       "0    c5.12xlarge  3112.340583     4194304   96     48"
      ]
     },
     "execution_count": 28,
     "metadata": {},
     "output_type": "execute_result"
    }
   ],
   "source": [
    "median_winner = (\n",
    "    df\n",
    "    .groupby([\"instance\", \"block_size\"])[\"mbps\"].median()\n",
    "    .groupby(\"instance\").agg([('mbps', 'max'), ('block_size', 'idxmax')])\n",
    "    .assign(block_size=lambda df: df[\"block_size\"].apply(lambda _: _[1]))\n",
    "    .merge(ram, on=[\"instance\"], how=\"left\")\n",
    "    .sort_values(\"mbps\")\n",
    ")\n",
    "median_winner"
   ]
  },
  {
   "cell_type": "markdown",
   "metadata": {},
   "source": [
    "Hmmmm, it's not conclusive. Let's dig into this a bit."
   ]
  },
  {
   "cell_type": "markdown",
   "metadata": {},
   "source": [
    "## Some Plots"
   ]
  },
  {
   "cell_type": "markdown",
   "metadata": {},
   "source": [
    "Smallest instance type"
   ]
  },
  {
   "cell_type": "code",
   "execution_count": 29,
   "metadata": {},
   "outputs": [
    {
     "data": {
      "image/png": "[encoded data removed]",
      "text/plain": [
       "<Figure size 432x288 with 1 Axes>"
      ]
     },
     "metadata": {
      "needs_background": "light"
     },
     "output_type": "display_data"
    }
   ],
   "source": [
    "df.query(\"instance == 'r5a.large'\").groupby(\"block_size\")[\"mbps\"].plot(legend=True, style=\"-\", use_index=False);"
   ]
  },
  {
   "cell_type": "markdown",
   "metadata": {},
   "source": [
    "Fastest instance type"
   ]
  },
  {
   "cell_type": "code",
   "execution_count": 30,
   "metadata": {},
   "outputs": [
    {
     "data": {
      "image/png": "[encoded data removed]",
      "text/plain": [
       "<Figure size 432x288 with 1 Axes>"
      ]
     },
     "metadata": {
      "needs_background": "light"
     },
     "output_type": "display_data"
    }
   ],
   "source": [
    "df.query(\"instance == 'c5.12xlarge'\").groupby(\"block_size\")[\"mbps\"].plot(legend=True, style=\"-\", use_index=False);"
   ]
  },
  {
   "cell_type": "markdown",
   "metadata": {},
   "source": [
    "Fastest instance type that has different block size winner"
   ]
  },
  {
   "cell_type": "code",
   "execution_count": 31,
   "metadata": {},
   "outputs": [
    {
     "data": {
      "image/png": "[encoded data removed]",
      "text/plain": [
       "<Figure size 432x288 with 1 Axes>"
      ]
     },
     "metadata": {
      "needs_background": "light"
     },
     "output_type": "display_data"
    }
   ],
   "source": [
    "df.query(\"instance == 'r5a.16xlarge'\").groupby(\"block_size\")[\"mbps\"].plot(legend=True, use_index=False);"
   ]
  },
  {
   "cell_type": "markdown",
   "metadata": {},
   "source": [
    "## Median?"
   ]
  },
  {
   "cell_type": "markdown",
   "metadata": {},
   "source": [
    "I think beginnings of runs are weird, but then they stabilize. This is not shown above.\n",
    "\n",
    "Anywa, I think median is a fine metric for comparing the different block sizes given these data."
   ]
  },
  {
   "cell_type": "markdown",
   "metadata": {},
   "source": [
    "# Who's the overall winner?"
   ]
  },
  {
   "cell_type": "markdown",
   "metadata": {},
   "source": [
    "Different instance types have slightly different results.\n",
    "\n",
    "If we knew what the average user uses, we could choose the corresponding block size winner.\n",
    "\n",
    "But we don't know what the average user uses.\n",
    "\n",
    "Here's one idea:\n",
    "\n",
    "For each positive real number $\\alpha$, let $B(m,\\alpha)$ be the set of block sizes whose median MB/s, on machine type $m$, are at most $\\alpha$ percent slower than the fastest block size median on that instance type.\n",
    "\n",
    "We will find the smallest $\\alpha$ such that $\\cap_{m} B(m, \\alpha)$ is non empty. If it consists of a single block size - then that block size wins!\n",
    "\n",
    "This captures the idea that we can settle for second best block size on a _single_ instance type, if it's only, say, 5% slower than the best block size for that instance type, as long as this block size is pretty good for _all_ instance types."
   ]
  },
  {
   "cell_type": "code",
   "execution_count": 32,
   "metadata": {},
   "outputs": [
    {
     "data": {
      "text/html": [
       "<div>\n",
       "<style scoped>\n",
       "    .dataframe tbody tr th:only-of-type {\n",
       "        vertical-align: middle;\n",
       "    }\n",
       "\n",
       "    .dataframe tbody tr th {\n",
       "        vertical-align: top;\n",
       "    }\n",
       "\n",
       "    .dataframe thead th {\n",
       "        text-align: right;\n",
       "    }\n",
       "</style>\n",
       "<table border=\"1\" class=\"dataframe\">\n",
       "  <thead>\n",
       "    <tr style=\"text-align: right;\">\n",
       "      <th></th>\n",
       "      <th>at most 9% slower</th>\n",
       "      <th>at most 10% slower</th>\n",
       "      <th>at most 12% slower</th>\n",
       "      <th>at most 13% slower</th>\n",
       "    </tr>\n",
       "    <tr>\n",
       "      <th>block_size</th>\n",
       "      <th></th>\n",
       "      <th></th>\n",
       "      <th></th>\n",
       "      <th></th>\n",
       "    </tr>\n",
       "  </thead>\n",
       "  <tbody>\n",
       "    <tr>\n",
       "      <th>65536</th>\n",
       "      <td>0.0</td>\n",
       "      <td>0.0</td>\n",
       "      <td>15.0</td>\n",
       "      <td>25.0</td>\n",
       "    </tr>\n",
       "    <tr>\n",
       "      <th>1048576</th>\n",
       "      <td>85.0</td>\n",
       "      <td>90.0</td>\n",
       "      <td>95.0</td>\n",
       "      <td>100.0</td>\n",
       "    </tr>\n",
       "    <tr>\n",
       "      <th>2097152</th>\n",
       "      <td>60.0</td>\n",
       "      <td>70.0</td>\n",
       "      <td>80.0</td>\n",
       "      <td>80.0</td>\n",
       "    </tr>\n",
       "    <tr>\n",
       "      <th>4194304</th>\n",
       "      <td>95.0</td>\n",
       "      <td>100.0</td>\n",
       "      <td>100.0</td>\n",
       "      <td>100.0</td>\n",
       "    </tr>\n",
       "    <tr>\n",
       "      <th>8388608</th>\n",
       "      <td>90.0</td>\n",
       "      <td>90.0</td>\n",
       "      <td>90.0</td>\n",
       "      <td>90.0</td>\n",
       "    </tr>\n",
       "    <tr>\n",
       "      <th>16777216</th>\n",
       "      <td>70.0</td>\n",
       "      <td>70.0</td>\n",
       "      <td>75.0</td>\n",
       "      <td>80.0</td>\n",
       "    </tr>\n",
       "    <tr>\n",
       "      <th>33554432</th>\n",
       "      <td>45.0</td>\n",
       "      <td>45.0</td>\n",
       "      <td>45.0</td>\n",
       "      <td>45.0</td>\n",
       "    </tr>\n",
       "    <tr>\n",
       "      <th>67108864</th>\n",
       "      <td>35.0</td>\n",
       "      <td>35.0</td>\n",
       "      <td>40.0</td>\n",
       "      <td>40.0</td>\n",
       "    </tr>\n",
       "    <tr>\n",
       "      <th>134217728</th>\n",
       "      <td>30.0</td>\n",
       "      <td>30.0</td>\n",
       "      <td>30.0</td>\n",
       "      <td>30.0</td>\n",
       "    </tr>\n",
       "    <tr>\n",
       "      <th>268435456</th>\n",
       "      <td>15.0</td>\n",
       "      <td>15.0</td>\n",
       "      <td>20.0</td>\n",
       "      <td>20.0</td>\n",
       "    </tr>\n",
       "  </tbody>\n",
       "</table>\n",
       "</div>"
      ],
      "text/plain": [
       "            at most 9% slower  at most 10% slower  at most 12% slower  \\\n",
       "block_size                                                              \n",
       "65536                     0.0                 0.0                15.0   \n",
       "1048576                  85.0                90.0                95.0   \n",
       "2097152                  60.0                70.0                80.0   \n",
       "4194304                  95.0               100.0               100.0   \n",
       "8388608                  90.0                90.0                90.0   \n",
       "16777216                 70.0                70.0                75.0   \n",
       "33554432                 45.0                45.0                45.0   \n",
       "67108864                 35.0                35.0                40.0   \n",
       "134217728                30.0                30.0                30.0   \n",
       "268435456                15.0                15.0                20.0   \n",
       "\n",
       "            at most 13% slower  \n",
       "block_size                      \n",
       "65536                     25.0  \n",
       "1048576                  100.0  \n",
       "2097152                   80.0  \n",
       "4194304                  100.0  \n",
       "8388608                   90.0  \n",
       "16777216                  80.0  \n",
       "33554432                  45.0  \n",
       "67108864                  40.0  \n",
       "134217728                 30.0  \n",
       "268435456                 20.0  "
      ]
     },
     "execution_count": 32,
     "metadata": {},
     "output_type": "execute_result"
    }
   ],
   "source": [
    "alpha=5\n",
    "B = pd.concat([\n",
    "    # Median per instance-block size\n",
    "    df.groupby([\"instance\", \"block_size\"])[\"mbps\"].median()\n",
    "    # Is it at most alpha percent slower than the best?\n",
    "    .gt(median_winner.set_index(\"instance\")['mbps'] * (1 - alpha/100))\n",
    "    # Percent of instance types\n",
    "    .groupby(\"block_size\").mean().mul(100).round()\n",
    "    .rename(f\"at most {alpha}% slower\")\n",
    "    for alpha in [9, 10, 12, 13]\n",
    "], axis=1)\n",
    "B"
   ]
  },
  {
   "cell_type": "markdown",
   "metadata": {},
   "source": [
    "# 4 MB !"
   ]
  },
  {
   "cell_type": "markdown",
   "metadata": {},
   "source": [
    "Choosing a block size of 4 MB for reading the Yellow NY Taxi data csv from 2020 is at worst 10% slower than the best block size, for each EC2 instance type that was run in this experiment, and no other block size that was tried satisfies this property."
   ]
  },
  {
   "cell_type": "markdown",
   "metadata": {},
   "source": [
    "The next block size to win the race is 1 MB, whose median on each instance type is at most 14% slower than the best median on that instance type."
   ]
  }
 ],
 "metadata": {
  "kernelspec": {
   "display_name": "Python 3",
   "language": "python",
   "name": "python3"
  },
  "language_info": {
   "codemirror_mode": {
    "name": "ipython",
    "version": 3
   },
   "file_extension": ".py",
   "mimetype": "text/x-python",
   "name": "python",
   "nbconvert_exporter": "python",
   "pygments_lexer": "ipython3",
   "version": "3.6.10"
  }
 },
 "nbformat": 4,
 "nbformat_minor": 4
}
